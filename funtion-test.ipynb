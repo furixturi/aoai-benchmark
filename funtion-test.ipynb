{
 "cells": [
  {
   "cell_type": "code",
   "execution_count": 1,
   "metadata": {},
   "outputs": [
    {
     "data": {
      "text/plain": [
       "True"
      ]
     },
     "execution_count": 1,
     "metadata": {},
     "output_type": "execute_result"
    }
   ],
   "source": [
    "import os\n",
    "\n",
    "from dotenv import load_dotenv\n",
    "load_dotenv()"
   ]
  },
  {
   "cell_type": "code",
   "execution_count": 2,
   "metadata": {},
   "outputs": [],
   "source": [
    "# API_ENDPOINT = os.environ[\"PAYGO_GPT_35_T_JP_ENDPOINT\"]\n",
    "# DEPLOYMENT = os.environ[\"PAYGO_GPT_35_T_DEPLOYMENT\"]\n",
    "# API_KEY = os.environ[\"PAYGO_GPT_35_T_JP_KEY\"]\n",
    "\n",
    "API_ENDPOINT = os.environ[\"PAYGO_GPT_4_AU_ENDPOINT\"]\n",
    "DEPLOYMENT = os.environ[\"PAYGO_GPT_4_AU_DEPLOYMENT\"]\n",
    "API_KEY = os.environ[\"PAYGO_GPT_4_AU_KEY\"]\n",
    "\n",
    "# API_ENDPOINT = os.environ[\"PTU_4o_SWC_ENDPOINT\"]\n",
    "# DEPLOYMENT = os.environ[\"PTU_4o_SWC_DEPLOYMENT\"]\n",
    "# API_KEY = os.environ[\"PTU_4o_SWC_KEY\"]\n",
    "\n",
    "## 4o PayGo Global\n",
    "# API_ENDPOINT = os.environ[\"PAYGO_4o_SWC_ENDPOINT\"]\n",
    "# DEPLOYMENT = os.environ[\"PAYGO_4o_SWC_DEPLOYMENT\"]\n",
    "# API_KEY = os.environ[\"PAYGO_4o_SWC_KEY\"]\n",
    "\n",
    "## 4o PayGo Standard\n",
    "# API_ENDPOINT = os.environ[\"PAYGO_4o_ENDPOINT\"]\n",
    "# DEPLOYMENT = os.environ[\"PAYGO_4o_DEPLOYMENT\"]\n",
    "# API_KEY = os.environ[\"PAYGO_4o_KEY\"]\n",
    "\n",
    "## 4o SWC GBB cluster\n",
    "API_ENDPOINT = os.environ[\"GPT_4o_SWC_20240913_ENDPOINT\"]\n",
    "DEPLOYMENT = os.environ[\"GPT_4o_SWC_20240913_PTU_DEPLOYMENT\"]\n",
    "API_KEY = os.environ[\"GPT_4o_SWC_20240913_KEY\"]\n",
    "\n",
    "# Azure OpenAI API settings\n",
    "API_ENDPOINT = f\"{API_ENDPOINT}/openai/deployments/{DEPLOYMENT}/chat/completions?api-version=2024-06-01&max_tokens=500\"\n",
    "HEADERS = {\n",
    "    \"Content-Type\": \"application/json\",\n",
    "    \"api-key\": API_KEY\n",
    "}"
   ]
  },
  {
   "cell_type": "code",
   "execution_count": 21,
   "metadata": {},
   "outputs": [],
   "source": [
    "import requests\n",
    "\n",
    "prompt = \"Generate 500 tokens in Japanese about bank. Don't output anything else.\"\n",
    "\n",
    "PAYLOAD = {\n",
    "    \"messages\": [\n",
    "        {\"role\": \"system\", \"content\": \"You are a helpful assistant.\"},\n",
    "        {\"role\": \"user\", \"content\": prompt}\n",
    "    ],\n",
    "    \"max_tokens\": 500,\n",
    "    \"temperature\": 0.7,\n",
    "    \"top_p\": 0.9,\n",
    "    \"frequency_penalty\": 0,\n",
    "    \"presence_penalty\": 0,\n",
    "    \"stream\": False\n",
    "}\n",
    "\n",
    "def make_request():\n",
    "    try:\n",
    "        response = requests.post(API_ENDPOINT, headers=HEADERS, json=PAYLOAD)\n",
    "        if response.status_code == 200:\n",
    "            print(f\"Success: {API_ENDPOINT} | {response.status_code} \\n {response.headers} \\n {response.json()}\")\n",
    "        else:\n",
    "            print(f\"Error: {API_ENDPOINT} | {response.status_code} \\n {response.headers} \\n {response.json()}\")\n",
    "    except Exception as e:\n",
    "        print(\"Exception occurred:\", e)"
   ]
  },
  {
   "cell_type": "code",
   "execution_count": 6,
   "metadata": {},
   "outputs": [],
   "source": [
    "import requests\n",
    "import time\n",
    "import json\n",
    "from datetime import datetime, timezone\n",
    "\n",
    "prompt = \"Generate 50 tokens in Japanese about bank. Don't output anything else.\"\n",
    "\n",
    "PAYLOAD = {\n",
    "    \"messages\": [\n",
    "        {\"role\": \"system\", \"content\": \"You are a helpful assistant.\"},\n",
    "        {\"role\": \"user\", \"content\": prompt}\n",
    "    ],\n",
    "    \"max_tokens\": 500,\n",
    "    \"temperature\": 0.7,\n",
    "    \"top_p\": 0.9,\n",
    "    \"frequency_penalty\": 0,\n",
    "    \"presence_penalty\": 0,\n",
    "    \"stream\": True\n",
    "}\n",
    "\n",
    "async def make_request_stream():\n",
    "    request_time = time.time()\n",
    "    request_time_str = datetime.now(timezone.utc).isoformat()\n",
    "    try:\n",
    "        response = requests.post(API_ENDPOINT, headers=HEADERS, json=PAYLOAD, stream=True)\n",
    "        print(f\"Request sent: {API_ENDPOINT} | {request_time_str}\")\n",
    "        if response.status_code == 200:\n",
    "            ftt_time = None\n",
    "            done_time = None\n",
    "            \n",
    "            for line in response.iter_lines():\n",
    "                if line:\n",
    "                    decoded_line = line.decode('utf-8').strip()\n",
    "                    print(decoded_line)\n",
    "                    if decoded_line.startswith(\"data: \"):\n",
    "                        data = decoded_line[6:]\n",
    "                        if data == \"[DONE]\":\n",
    "                            done_time = time.time()\n",
    "                            done_time_str = datetime.now(timezone.utc).isoformat()\n",
    "                            print(f\"[DONE] received at: {done_time_str}\")\n",
    "                            print(f\"Total time taken: {(done_time - request_time):.3f} seconds\")\n",
    "                            break\n",
    "                        else:\n",
    "                            try:\n",
    "                                # First line is usually empty: data: {\"choices\":[{\"content_filter_results\":{},\"delta\":{\"content\":\"\",\"role\":\"assistant\"},\"finish_reason\":null,\"index\":0,\"logprobs\":null}],\"created\":1726394751,\"id\":\"chatcmpl-A7gQZ9vDUfpPD8ZtfkzpcrYQWxNmG\",\"model\":\"gpt-4\",\"object\":\"chat.completion.chunk\",\"system_fingerprint\":null}\n",
    "                                # We only want to count first token time when there is really a token coming in the choices[\"delta\"][\"content\"]\n",
    "\n",
    "                                json_data = json.loads(data)\n",
    "                                choices = json_data.get(\"choices\", [])\n",
    "                                if choices and \"delta\" in choices[0] and \"content\" in choices[0][\"delta\"]:\n",
    "                                    content = choices[0][\"delta\"][\"content\"]\n",
    "                                    if content:\n",
    "                                        # print(f\"Token received: {content}\")\n",
    "                                        if not ftt_time:\n",
    "                                            ftt_time = time.time()\n",
    "                                            ftt_time_str = datetime.now(timezone.utc).isoformat()\n",
    "                                            print(f\"First token received at: {ftt_time_str}\")\n",
    "                                            print(f\"Time taken to first token: {(ftt_time - request_time):.3f} seconds\")\n",
    "                            except json.JSONDecodeError:\n",
    "                                print(f\"Failed to decode JSON: {data}\")\n",
    "                    if not ftt_time:\n",
    "                        print(f\"Line received before first token: {decoded_line}\")\n",
    "            if not ftt_time:\n",
    "                print(\"No tokens received\")\n",
    "            if not done_time:\n",
    "                if ftt_time:\n",
    "                    print(f\"First token received at: {ftt_time_str}\")\n",
    "                    print(f\"Time taken to first token: {(ftt_time - request_time):.3f} seconds\")\n",
    "                print(\"No [DONE] received\")\n",
    "        else:\n",
    "            print(f\"Error: Status: {response.status_code} \\n {response.headers} \\n {response.json()}\")\n",
    "    except Exception as e:\n",
    "        print(\"Exception occurred:\", e)\n",
    "                        "
   ]
  },
  {
   "cell_type": "code",
   "execution_count": 7,
   "metadata": {},
   "outputs": [
    {
     "name": "stdout",
     "output_type": "stream",
     "text": [
      "Request sent: https://gbb-ea-openai-swedencentral-gpt4o-a.openai.azure.com/openai/deployments/gpt-4o-2024-05-13-ptu/chat/completions?api-version=2024-06-01&max_tokens=500 | 2024-09-16T13:04:15.649432+00:00\n",
      "data: {\"id\":\"chatcmpl-A85gmJLqonnBDX3HRGLYnX7saZOEV\",\"object\":\"chat.completion.chunk\",\"created\":1726491856,\"model\":\"gpt-4o-2024-05-13\",\"system_fingerprint\":\"fp_80a1bad4c7\",\"choices\":[{\"index\":0,\"delta\":{\"role\":\"assistant\",\"content\":\"\"},\"logprobs\":null,\"finish_reason\":null}]}\n",
      "Line received before first token: data: {\"id\":\"chatcmpl-A85gmJLqonnBDX3HRGLYnX7saZOEV\",\"object\":\"chat.completion.chunk\",\"created\":1726491856,\"model\":\"gpt-4o-2024-05-13\",\"system_fingerprint\":\"fp_80a1bad4c7\",\"choices\":[{\"index\":0,\"delta\":{\"role\":\"assistant\",\"content\":\"\"},\"logprobs\":null,\"finish_reason\":null}]}\n",
      "data: {\"id\":\"chatcmpl-A85gmJLqonnBDX3HRGLYnX7saZOEV\",\"object\":\"chat.completion.chunk\",\"created\":1726491856,\"model\":\"gpt-4o-2024-05-13\",\"system_fingerprint\":\"fp_80a1bad4c7\",\"choices\":[{\"index\":0,\"delta\":{\"content\":\"銀行\"},\"logprobs\":null,\"finish_reason\":null}]}\n",
      "First token received at: 2024-09-16T13:04:16.764983+00:00\n",
      "Time taken to first token: 1.116 seconds\n",
      "data: {\"id\":\"chatcmpl-A85gmJLqonnBDX3HRGLYnX7saZOEV\",\"object\":\"chat.completion.chunk\",\"created\":1726491856,\"model\":\"gpt-4o-2024-05-13\",\"system_fingerprint\":\"fp_80a1bad4c7\",\"choices\":[{\"index\":0,\"delta\":{\"content\":\"は\"},\"logprobs\":null,\"finish_reason\":null}]}\n",
      "data: {\"id\":\"chatcmpl-A85gmJLqonnBDX3HRGLYnX7saZOEV\",\"object\":\"chat.completion.chunk\",\"created\":1726491856,\"model\":\"gpt-4o-2024-05-13\",\"system_fingerprint\":\"fp_80a1bad4c7\",\"choices\":[{\"index\":0,\"delta\":{\"content\":\"、お\"},\"logprobs\":null,\"finish_reason\":null}]}\n",
      "data: {\"id\":\"chatcmpl-A85gmJLqonnBDX3HRGLYnX7saZOEV\",\"object\":\"chat.completion.chunk\",\"created\":1726491856,\"model\":\"gpt-4o-2024-05-13\",\"system_fingerprint\":\"fp_80a1bad4c7\",\"choices\":[{\"index\":0,\"delta\":{\"content\":\"金\"},\"logprobs\":null,\"finish_reason\":null}]}\n",
      "data: {\"id\":\"chatcmpl-A85gmJLqonnBDX3HRGLYnX7saZOEV\",\"object\":\"chat.completion.chunk\",\"created\":1726491856,\"model\":\"gpt-4o-2024-05-13\",\"system_fingerprint\":\"fp_80a1bad4c7\",\"choices\":[{\"index\":0,\"delta\":{\"content\":\"を\"},\"logprobs\":null,\"finish_reason\":null}]}\n",
      "data: {\"id\":\"chatcmpl-A85gmJLqonnBDX3HRGLYnX7saZOEV\",\"object\":\"chat.completion.chunk\",\"created\":1726491856,\"model\":\"gpt-4o-2024-05-13\",\"system_fingerprint\":\"fp_80a1bad4c7\",\"choices\":[{\"index\":0,\"delta\":{\"content\":\"預\"},\"logprobs\":null,\"finish_reason\":null}]}\n",
      "data: {\"id\":\"chatcmpl-A85gmJLqonnBDX3HRGLYnX7saZOEV\",\"object\":\"chat.completion.chunk\",\"created\":1726491856,\"model\":\"gpt-4o-2024-05-13\",\"system_fingerprint\":\"fp_80a1bad4c7\",\"choices\":[{\"index\":0,\"delta\":{\"content\":\"け\"},\"logprobs\":null,\"finish_reason\":null}]}\n",
      "data: {\"id\":\"chatcmpl-A85gmJLqonnBDX3HRGLYnX7saZOEV\",\"object\":\"chat.completion.chunk\",\"created\":1726491856,\"model\":\"gpt-4o-2024-05-13\",\"system_fingerprint\":\"fp_80a1bad4c7\",\"choices\":[{\"index\":0,\"delta\":{\"content\":\"たり\"},\"logprobs\":null,\"finish_reason\":null}]}\n",
      "data: {\"id\":\"chatcmpl-A85gmJLqonnBDX3HRGLYnX7saZOEV\",\"object\":\"chat.completion.chunk\",\"created\":1726491856,\"model\":\"gpt-4o-2024-05-13\",\"system_fingerprint\":\"fp_80a1bad4c7\",\"choices\":[{\"index\":0,\"delta\":{\"content\":\"引\"},\"logprobs\":null,\"finish_reason\":null}]}\n",
      "data: {\"id\":\"chatcmpl-A85gmJLqonnBDX3HRGLYnX7saZOEV\",\"object\":\"chat.completion.chunk\",\"created\":1726491856,\"model\":\"gpt-4o-2024-05-13\",\"system_fingerprint\":\"fp_80a1bad4c7\",\"choices\":[{\"index\":0,\"delta\":{\"content\":\"き\"},\"logprobs\":null,\"finish_reason\":null}]}\n",
      "data: {\"id\":\"chatcmpl-A85gmJLqonnBDX3HRGLYnX7saZOEV\",\"object\":\"chat.completion.chunk\",\"created\":1726491856,\"model\":\"gpt-4o-2024-05-13\",\"system_fingerprint\":\"fp_80a1bad4c7\",\"choices\":[{\"index\":0,\"delta\":{\"content\":\"出\"},\"logprobs\":null,\"finish_reason\":null}]}\n",
      "data: {\"id\":\"chatcmpl-A85gmJLqonnBDX3HRGLYnX7saZOEV\",\"object\":\"chat.completion.chunk\",\"created\":1726491856,\"model\":\"gpt-4o-2024-05-13\",\"system_fingerprint\":\"fp_80a1bad4c7\",\"choices\":[{\"index\":0,\"delta\":{\"content\":\"した\"},\"logprobs\":null,\"finish_reason\":null}]}\n",
      "data: {\"id\":\"chatcmpl-A85gmJLqonnBDX3HRGLYnX7saZOEV\",\"object\":\"chat.completion.chunk\",\"created\":1726491856,\"model\":\"gpt-4o-2024-05-13\",\"system_fingerprint\":\"fp_80a1bad4c7\",\"choices\":[{\"index\":0,\"delta\":{\"content\":\"り\"},\"logprobs\":null,\"finish_reason\":null}]}\n",
      "data: {\"id\":\"chatcmpl-A85gmJLqonnBDX3HRGLYnX7saZOEV\",\"object\":\"chat.completion.chunk\",\"created\":1726491856,\"model\":\"gpt-4o-2024-05-13\",\"system_fingerprint\":\"fp_80a1bad4c7\",\"choices\":[{\"index\":0,\"delta\":{\"content\":\"する\"},\"logprobs\":null,\"finish_reason\":null}]}\n",
      "data: {\"id\":\"chatcmpl-A85gmJLqonnBDX3HRGLYnX7saZOEV\",\"object\":\"chat.completion.chunk\",\"created\":1726491856,\"model\":\"gpt-4o-2024-05-13\",\"system_fingerprint\":\"fp_80a1bad4c7\",\"choices\":[{\"index\":0,\"delta\":{\"content\":\"場所\"},\"logprobs\":null,\"finish_reason\":null}]}\n",
      "data: {\"id\":\"chatcmpl-A85gmJLqonnBDX3HRGLYnX7saZOEV\",\"object\":\"chat.completion.chunk\",\"created\":1726491856,\"model\":\"gpt-4o-2024-05-13\",\"system_fingerprint\":\"fp_80a1bad4c7\",\"choices\":[{\"index\":0,\"delta\":{\"content\":\"です\"},\"logprobs\":null,\"finish_reason\":null}]}\n",
      "data: {\"id\":\"chatcmpl-A85gmJLqonnBDX3HRGLYnX7saZOEV\",\"object\":\"chat.completion.chunk\",\"created\":1726491856,\"model\":\"gpt-4o-2024-05-13\",\"system_fingerprint\":\"fp_80a1bad4c7\",\"choices\":[{\"index\":0,\"delta\":{\"content\":\"。\"},\"logprobs\":null,\"finish_reason\":null}]}\n",
      "data: {\"id\":\"chatcmpl-A85gmJLqonnBDX3HRGLYnX7saZOEV\",\"object\":\"chat.completion.chunk\",\"created\":1726491856,\"model\":\"gpt-4o-2024-05-13\",\"system_fingerprint\":\"fp_80a1bad4c7\",\"choices\":[{\"index\":0,\"delta\":{\"content\":\"口\"},\"logprobs\":null,\"finish_reason\":null}]}\n",
      "data: {\"id\":\"chatcmpl-A85gmJLqonnBDX3HRGLYnX7saZOEV\",\"object\":\"chat.completion.chunk\",\"created\":1726491856,\"model\":\"gpt-4o-2024-05-13\",\"system_fingerprint\":\"fp_80a1bad4c7\",\"choices\":[{\"index\":0,\"delta\":{\"content\":\"座\"},\"logprobs\":null,\"finish_reason\":null}]}\n",
      "data: {\"id\":\"chatcmpl-A85gmJLqonnBDX3HRGLYnX7saZOEV\",\"object\":\"chat.completion.chunk\",\"created\":1726491856,\"model\":\"gpt-4o-2024-05-13\",\"system_fingerprint\":\"fp_80a1bad4c7\",\"choices\":[{\"index\":0,\"delta\":{\"content\":\"を\"},\"logprobs\":null,\"finish_reason\":null}]}\n",
      "data: {\"id\":\"chatcmpl-A85gmJLqonnBDX3HRGLYnX7saZOEV\",\"object\":\"chat.completion.chunk\",\"created\":1726491856,\"model\":\"gpt-4o-2024-05-13\",\"system_fingerprint\":\"fp_80a1bad4c7\",\"choices\":[{\"index\":0,\"delta\":{\"content\":\"開\"},\"logprobs\":null,\"finish_reason\":null}]}\n",
      "data: {\"id\":\"chatcmpl-A85gmJLqonnBDX3HRGLYnX7saZOEV\",\"object\":\"chat.completion.chunk\",\"created\":1726491856,\"model\":\"gpt-4o-2024-05-13\",\"system_fingerprint\":\"fp_80a1bad4c7\",\"choices\":[{\"index\":0,\"delta\":{\"content\":\"設\"},\"logprobs\":null,\"finish_reason\":null}]}\n",
      "data: {\"id\":\"chatcmpl-A85gmJLqonnBDX3HRGLYnX7saZOEV\",\"object\":\"chat.completion.chunk\",\"created\":1726491856,\"model\":\"gpt-4o-2024-05-13\",\"system_fingerprint\":\"fp_80a1bad4c7\",\"choices\":[{\"index\":0,\"delta\":{\"content\":\"すると\"},\"logprobs\":null,\"finish_reason\":null}]}\n",
      "data: {\"id\":\"chatcmpl-A85gmJLqonnBDX3HRGLYnX7saZOEV\",\"object\":\"chat.completion.chunk\",\"created\":1726491856,\"model\":\"gpt-4o-2024-05-13\",\"system_fingerprint\":\"fp_80a1bad4c7\",\"choices\":[{\"index\":0,\"delta\":{\"content\":\"、\"},\"logprobs\":null,\"finish_reason\":null}]}\n",
      "data: {\"id\":\"chatcmpl-A85gmJLqonnBDX3HRGLYnX7saZOEV\",\"object\":\"chat.completion.chunk\",\"created\":1726491856,\"model\":\"gpt-4o-2024-05-13\",\"system_fingerprint\":\"fp_80a1bad4c7\",\"choices\":[{\"index\":0,\"delta\":{\"content\":\"貯\"},\"logprobs\":null,\"finish_reason\":null}]}\n",
      "data: {\"id\":\"chatcmpl-A85gmJLqonnBDX3HRGLYnX7saZOEV\",\"object\":\"chat.completion.chunk\",\"created\":1726491856,\"model\":\"gpt-4o-2024-05-13\",\"system_fingerprint\":\"fp_80a1bad4c7\",\"choices\":[{\"index\":0,\"delta\":{\"content\":\"金\"},\"logprobs\":null,\"finish_reason\":null}]}\n",
      "data: {\"id\":\"chatcmpl-A85gmJLqonnBDX3HRGLYnX7saZOEV\",\"object\":\"chat.completion.chunk\",\"created\":1726491856,\"model\":\"gpt-4o-2024-05-13\",\"system_fingerprint\":\"fp_80a1bad4c7\",\"choices\":[{\"index\":0,\"delta\":{\"content\":\"や\"},\"logprobs\":null,\"finish_reason\":null}]}\n",
      "data: {\"id\":\"chatcmpl-A85gmJLqonnBDX3HRGLYnX7saZOEV\",\"object\":\"chat.completion.chunk\",\"created\":1726491856,\"model\":\"gpt-4o-2024-05-13\",\"system_fingerprint\":\"fp_80a1bad4c7\",\"choices\":[{\"index\":0,\"delta\":{\"content\":\"送\"},\"logprobs\":null,\"finish_reason\":null}]}\n",
      "data: {\"id\":\"chatcmpl-A85gmJLqonnBDX3HRGLYnX7saZOEV\",\"object\":\"chat.completion.chunk\",\"created\":1726491856,\"model\":\"gpt-4o-2024-05-13\",\"system_fingerprint\":\"fp_80a1bad4c7\",\"choices\":[{\"index\":0,\"delta\":{\"content\":\"金\"},\"logprobs\":null,\"finish_reason\":null}]}\n",
      "data: {\"id\":\"chatcmpl-A85gmJLqonnBDX3HRGLYnX7saZOEV\",\"object\":\"chat.completion.chunk\",\"created\":1726491856,\"model\":\"gpt-4o-2024-05-13\",\"system_fingerprint\":\"fp_80a1bad4c7\",\"choices\":[{\"index\":0,\"delta\":{\"content\":\"が\"},\"logprobs\":null,\"finish_reason\":null}]}\n",
      "data: {\"id\":\"chatcmpl-A85gmJLqonnBDX3HRGLYnX7saZOEV\",\"object\":\"chat.completion.chunk\",\"created\":1726491856,\"model\":\"gpt-4o-2024-05-13\",\"system_fingerprint\":\"fp_80a1bad4c7\",\"choices\":[{\"index\":0,\"delta\":{\"content\":\"可能\"},\"logprobs\":null,\"finish_reason\":null}]}\n",
      "data: {\"id\":\"chatcmpl-A85gmJLqonnBDX3HRGLYnX7saZOEV\",\"object\":\"chat.completion.chunk\",\"created\":1726491856,\"model\":\"gpt-4o-2024-05-13\",\"system_fingerprint\":\"fp_80a1bad4c7\",\"choices\":[{\"index\":0,\"delta\":{\"content\":\"になります\"},\"logprobs\":null,\"finish_reason\":null}]}\n",
      "data: {\"id\":\"chatcmpl-A85gmJLqonnBDX3HRGLYnX7saZOEV\",\"object\":\"chat.completion.chunk\",\"created\":1726491856,\"model\":\"gpt-4o-2024-05-13\",\"system_fingerprint\":\"fp_80a1bad4c7\",\"choices\":[{\"index\":0,\"delta\":{\"content\":\"。\"},\"logprobs\":null,\"finish_reason\":null}]}\n",
      "data: {\"id\":\"chatcmpl-A85gmJLqonnBDX3HRGLYnX7saZOEV\",\"object\":\"chat.completion.chunk\",\"created\":1726491856,\"model\":\"gpt-4o-2024-05-13\",\"system_fingerprint\":\"fp_80a1bad4c7\",\"choices\":[{\"index\":0,\"delta\":{\"content\":\"ATM\"},\"logprobs\":null,\"finish_reason\":null}]}\n",
      "data: {\"id\":\"chatcmpl-A85gmJLqonnBDX3HRGLYnX7saZOEV\",\"object\":\"chat.completion.chunk\",\"created\":1726491856,\"model\":\"gpt-4o-2024-05-13\",\"system_fingerprint\":\"fp_80a1bad4c7\",\"choices\":[{\"index\":0,\"delta\":{\"content\":\"を\"},\"logprobs\":null,\"finish_reason\":null}]}\n",
      "data: {\"id\":\"chatcmpl-A85gmJLqonnBDX3HRGLYnX7saZOEV\",\"object\":\"chat.completion.chunk\",\"created\":1726491856,\"model\":\"gpt-4o-2024-05-13\",\"system_fingerprint\":\"fp_80a1bad4c7\",\"choices\":[{\"index\":0,\"delta\":{\"content\":\"使\"},\"logprobs\":null,\"finish_reason\":null}]}\n",
      "data: {\"id\":\"chatcmpl-A85gmJLqonnBDX3HRGLYnX7saZOEV\",\"object\":\"chat.completion.chunk\",\"created\":1726491856,\"model\":\"gpt-4o-2024-05-13\",\"system_fingerprint\":\"fp_80a1bad4c7\",\"choices\":[{\"index\":0,\"delta\":{\"content\":\"って\"},\"logprobs\":null,\"finish_reason\":null}]}\n",
      "data: {\"id\":\"chatcmpl-A85gmJLqonnBDX3HRGLYnX7saZOEV\",\"object\":\"chat.completion.chunk\",\"created\":1726491856,\"model\":\"gpt-4o-2024-05-13\",\"system_fingerprint\":\"fp_80a1bad4c7\",\"choices\":[{\"index\":0,\"delta\":{\"content\":\"現\"},\"logprobs\":null,\"finish_reason\":null}]}\n",
      "data: {\"id\":\"chatcmpl-A85gmJLqonnBDX3HRGLYnX7saZOEV\",\"object\":\"chat.completion.chunk\",\"created\":1726491856,\"model\":\"gpt-4o-2024-05-13\",\"system_fingerprint\":\"fp_80a1bad4c7\",\"choices\":[{\"index\":0,\"delta\":{\"content\":\"金\"},\"logprobs\":null,\"finish_reason\":null}]}\n",
      "data: {\"id\":\"chatcmpl-A85gmJLqonnBDX3HRGLYnX7saZOEV\",\"object\":\"chat.completion.chunk\",\"created\":1726491856,\"model\":\"gpt-4o-2024-05-13\",\"system_fingerprint\":\"fp_80a1bad4c7\",\"choices\":[{\"index\":0,\"delta\":{\"content\":\"を\"},\"logprobs\":null,\"finish_reason\":null}]}\n",
      "data: {\"id\":\"chatcmpl-A85gmJLqonnBDX3HRGLYnX7saZOEV\",\"object\":\"chat.completion.chunk\",\"created\":1726491856,\"model\":\"gpt-4o-2024-05-13\",\"system_fingerprint\":\"fp_80a1bad4c7\",\"choices\":[{\"index\":0,\"delta\":{\"content\":\"引\"},\"logprobs\":null,\"finish_reason\":null}]}\n",
      "data: {\"id\":\"chatcmpl-A85gmJLqonnBDX3HRGLYnX7saZOEV\",\"object\":\"chat.completion.chunk\",\"created\":1726491856,\"model\":\"gpt-4o-2024-05-13\",\"system_fingerprint\":\"fp_80a1bad4c7\",\"choices\":[{\"index\":0,\"delta\":{\"content\":\"き\"},\"logprobs\":null,\"finish_reason\":null}]}\n",
      "data: {\"id\":\"chatcmpl-A85gmJLqonnBDX3HRGLYnX7saZOEV\",\"object\":\"chat.completion.chunk\",\"created\":1726491856,\"model\":\"gpt-4o-2024-05-13\",\"system_fingerprint\":\"fp_80a1bad4c7\",\"choices\":[{\"index\":0,\"delta\":{\"content\":\"出\"},\"logprobs\":null,\"finish_reason\":null}]}\n",
      "data: {\"id\":\"chatcmpl-A85gmJLqonnBDX3HRGLYnX7saZOEV\",\"object\":\"chat.completion.chunk\",\"created\":1726491856,\"model\":\"gpt-4o-2024-05-13\",\"system_fingerprint\":\"fp_80a1bad4c7\",\"choices\":[{\"index\":0,\"delta\":{\"content\":\"す\"},\"logprobs\":null,\"finish_reason\":null}]}\n",
      "data: {\"id\":\"chatcmpl-A85gmJLqonnBDX3HRGLYnX7saZOEV\",\"object\":\"chat.completion.chunk\",\"created\":1726491856,\"model\":\"gpt-4o-2024-05-13\",\"system_fingerprint\":\"fp_80a1bad4c7\",\"choices\":[{\"index\":0,\"delta\":{\"content\":\"こと\"},\"logprobs\":null,\"finish_reason\":null}]}\n",
      "data: {\"id\":\"chatcmpl-A85gmJLqonnBDX3HRGLYnX7saZOEV\",\"object\":\"chat.completion.chunk\",\"created\":1726491856,\"model\":\"gpt-4o-2024-05-13\",\"system_fingerprint\":\"fp_80a1bad4c7\",\"choices\":[{\"index\":0,\"delta\":{\"content\":\"も\"},\"logprobs\":null,\"finish_reason\":null}]}\n",
      "data: {\"id\":\"chatcmpl-A85gmJLqonnBDX3HRGLYnX7saZOEV\",\"object\":\"chat.completion.chunk\",\"created\":1726491856,\"model\":\"gpt-4o-2024-05-13\",\"system_fingerprint\":\"fp_80a1bad4c7\",\"choices\":[{\"index\":0,\"delta\":{\"content\":\"できます\"},\"logprobs\":null,\"finish_reason\":null}]}\n",
      "data: {\"id\":\"chatcmpl-A85gmJLqonnBDX3HRGLYnX7saZOEV\",\"object\":\"chat.completion.chunk\",\"created\":1726491856,\"model\":\"gpt-4o-2024-05-13\",\"system_fingerprint\":\"fp_80a1bad4c7\",\"choices\":[{\"index\":0,\"delta\":{\"content\":\"。\"},\"logprobs\":null,\"finish_reason\":null}]}\n",
      "data: {\"id\":\"chatcmpl-A85gmJLqonnBDX3HRGLYnX7saZOEV\",\"object\":\"chat.completion.chunk\",\"created\":1726491856,\"model\":\"gpt-4o-2024-05-13\",\"system_fingerprint\":\"fp_80a1bad4c7\",\"choices\":[{\"index\":0,\"delta\":{\"content\":\"さらに\"},\"logprobs\":null,\"finish_reason\":null}]}\n",
      "data: {\"id\":\"chatcmpl-A85gmJLqonnBDX3HRGLYnX7saZOEV\",\"object\":\"chat.completion.chunk\",\"created\":1726491856,\"model\":\"gpt-4o-2024-05-13\",\"system_fingerprint\":\"fp_80a1bad4c7\",\"choices\":[{\"index\":0,\"delta\":{\"content\":\"、\"},\"logprobs\":null,\"finish_reason\":null}]}\n",
      "data: {\"id\":\"chatcmpl-A85gmJLqonnBDX3HRGLYnX7saZOEV\",\"object\":\"chat.completion.chunk\",\"created\":1726491856,\"model\":\"gpt-4o-2024-05-13\",\"system_fingerprint\":\"fp_80a1bad4c7\",\"choices\":[{\"index\":0,\"delta\":{\"content\":\"ロー\"},\"logprobs\":null,\"finish_reason\":null}]}\n",
      "data: {\"id\":\"chatcmpl-A85gmJLqonnBDX3HRGLYnX7saZOEV\",\"object\":\"chat.completion.chunk\",\"created\":1726491856,\"model\":\"gpt-4o-2024-05-13\",\"system_fingerprint\":\"fp_80a1bad4c7\",\"choices\":[{\"index\":0,\"delta\":{\"content\":\"ン\"},\"logprobs\":null,\"finish_reason\":null}]}\n",
      "data: {\"id\":\"chatcmpl-A85gmJLqonnBDX3HRGLYnX7saZOEV\",\"object\":\"chat.completion.chunk\",\"created\":1726491856,\"model\":\"gpt-4o-2024-05-13\",\"system_fingerprint\":\"fp_80a1bad4c7\",\"choices\":[{\"index\":0,\"delta\":{\"content\":\"や\"},\"logprobs\":null,\"finish_reason\":null}]}\n",
      "data: {\"id\":\"chatcmpl-A85gmJLqonnBDX3HRGLYnX7saZOEV\",\"object\":\"chat.completion.chunk\",\"created\":1726491856,\"model\":\"gpt-4o-2024-05-13\",\"system_fingerprint\":\"fp_80a1bad4c7\",\"choices\":[{\"index\":0,\"delta\":{\"content\":\"ク\"},\"logprobs\":null,\"finish_reason\":null}]}\n",
      "data: {\"id\":\"chatcmpl-A85gmJLqonnBDX3HRGLYnX7saZOEV\",\"object\":\"chat.completion.chunk\",\"created\":1726491856,\"model\":\"gpt-4o-2024-05-13\",\"system_fingerprint\":\"fp_80a1bad4c7\",\"choices\":[{\"index\":0,\"delta\":{\"content\":\"レ\"},\"logprobs\":null,\"finish_reason\":null}]}\n",
      "data: {\"id\":\"chatcmpl-A85gmJLqonnBDX3HRGLYnX7saZOEV\",\"object\":\"chat.completion.chunk\",\"created\":1726491856,\"model\":\"gpt-4o-2024-05-13\",\"system_fingerprint\":\"fp_80a1bad4c7\",\"choices\":[{\"index\":0,\"delta\":{\"content\":\"ジ\"},\"logprobs\":null,\"finish_reason\":null}]}\n",
      "data: {\"id\":\"chatcmpl-A85gmJLqonnBDX3HRGLYnX7saZOEV\",\"object\":\"chat.completion.chunk\",\"created\":1726491856,\"model\":\"gpt-4o-2024-05-13\",\"system_fingerprint\":\"fp_80a1bad4c7\",\"choices\":[{\"index\":0,\"delta\":{\"content\":\"ット\"},\"logprobs\":null,\"finish_reason\":null}]}\n",
      "data: {\"id\":\"chatcmpl-A85gmJLqonnBDX3HRGLYnX7saZOEV\",\"object\":\"chat.completion.chunk\",\"created\":1726491856,\"model\":\"gpt-4o-2024-05-13\",\"system_fingerprint\":\"fp_80a1bad4c7\",\"choices\":[{\"index\":0,\"delta\":{\"content\":\"カード\"},\"logprobs\":null,\"finish_reason\":null}]}\n",
      "data: {\"id\":\"chatcmpl-A85gmJLqonnBDX3HRGLYnX7saZOEV\",\"object\":\"chat.completion.chunk\",\"created\":1726491856,\"model\":\"gpt-4o-2024-05-13\",\"system_fingerprint\":\"fp_80a1bad4c7\",\"choices\":[{\"index\":0,\"delta\":{\"content\":\"の\"},\"logprobs\":null,\"finish_reason\":null}]}\n",
      "data: {\"id\":\"chatcmpl-A85gmJLqonnBDX3HRGLYnX7saZOEV\",\"object\":\"chat.completion.chunk\",\"created\":1726491856,\"model\":\"gpt-4o-2024-05-13\",\"system_fingerprint\":\"fp_80a1bad4c7\",\"choices\":[{\"index\":0,\"delta\":{\"content\":\"申し\"},\"logprobs\":null,\"finish_reason\":null}]}\n",
      "data: {\"id\":\"chatcmpl-A85gmJLqonnBDX3HRGLYnX7saZOEV\",\"object\":\"chat.completion.chunk\",\"created\":1726491856,\"model\":\"gpt-4o-2024-05-13\",\"system_fingerprint\":\"fp_80a1bad4c7\",\"choices\":[{\"index\":0,\"delta\":{\"content\":\"込み\"},\"logprobs\":null,\"finish_reason\":null}]}\n",
      "data: {\"id\":\"chatcmpl-A85gmJLqonnBDX3HRGLYnX7saZOEV\",\"object\":\"chat.completion.chunk\",\"created\":1726491856,\"model\":\"gpt-4o-2024-05-13\",\"system_fingerprint\":\"fp_80a1bad4c7\",\"choices\":[{\"index\":0,\"delta\":{\"content\":\"も\"},\"logprobs\":null,\"finish_reason\":null}]}\n",
      "data: {\"id\":\"chatcmpl-A85gmJLqonnBDX3HRGLYnX7saZOEV\",\"object\":\"chat.completion.chunk\",\"created\":1726491856,\"model\":\"gpt-4o-2024-05-13\",\"system_fingerprint\":\"fp_80a1bad4c7\",\"choices\":[{\"index\":0,\"delta\":{\"content\":\"銀行\"},\"logprobs\":null,\"finish_reason\":null}]}\n",
      "data: {\"id\":\"chatcmpl-A85gmJLqonnBDX3HRGLYnX7saZOEV\",\"object\":\"chat.completion.chunk\",\"created\":1726491856,\"model\":\"gpt-4o-2024-05-13\",\"system_fingerprint\":\"fp_80a1bad4c7\",\"choices\":[{\"index\":0,\"delta\":{\"content\":\"で\"},\"logprobs\":null,\"finish_reason\":null}]}\n",
      "data: {\"id\":\"chatcmpl-A85gmJLqonnBDX3HRGLYnX7saZOEV\",\"object\":\"chat.completion.chunk\",\"created\":1726491856,\"model\":\"gpt-4o-2024-05-13\",\"system_fingerprint\":\"fp_80a1bad4c7\",\"choices\":[{\"index\":0,\"delta\":{\"content\":\"行\"},\"logprobs\":null,\"finish_reason\":null}]}\n",
      "data: {\"id\":\"chatcmpl-A85gmJLqonnBDX3HRGLYnX7saZOEV\",\"object\":\"chat.completion.chunk\",\"created\":1726491856,\"model\":\"gpt-4o-2024-05-13\",\"system_fingerprint\":\"fp_80a1bad4c7\",\"choices\":[{\"index\":0,\"delta\":{\"content\":\"え\"},\"logprobs\":null,\"finish_reason\":null}]}\n",
      "data: {\"id\":\"chatcmpl-A85gmJLqonnBDX3HRGLYnX7saZOEV\",\"object\":\"chat.completion.chunk\",\"created\":1726491856,\"model\":\"gpt-4o-2024-05-13\",\"system_fingerprint\":\"fp_80a1bad4c7\",\"choices\":[{\"index\":0,\"delta\":{\"content\":\"ます\"},\"logprobs\":null,\"finish_reason\":null}]}\n",
      "data: {\"id\":\"chatcmpl-A85gmJLqonnBDX3HRGLYnX7saZOEV\",\"object\":\"chat.completion.chunk\",\"created\":1726491856,\"model\":\"gpt-4o-2024-05-13\",\"system_fingerprint\":\"fp_80a1bad4c7\",\"choices\":[{\"index\":0,\"delta\":{\"content\":\"。\"},\"logprobs\":null,\"finish_reason\":null}]}\n",
      "data: {\"id\":\"chatcmpl-A85gmJLqonnBDX3HRGLYnX7saZOEV\",\"object\":\"chat.completion.chunk\",\"created\":1726491856,\"model\":\"gpt-4o-2024-05-13\",\"system_fingerprint\":\"fp_80a1bad4c7\",\"choices\":[{\"index\":0,\"delta\":{\"content\":\"オンライン\"},\"logprobs\":null,\"finish_reason\":null}]}\n",
      "data: {\"id\":\"chatcmpl-A85gmJLqonnBDX3HRGLYnX7saZOEV\",\"object\":\"chat.completion.chunk\",\"created\":1726491856,\"model\":\"gpt-4o-2024-05-13\",\"system_fingerprint\":\"fp_80a1bad4c7\",\"choices\":[{\"index\":0,\"delta\":{\"content\":\"バ\"},\"logprobs\":null,\"finish_reason\":null}]}\n",
      "data: {\"id\":\"chatcmpl-A85gmJLqonnBDX3HRGLYnX7saZOEV\",\"object\":\"chat.completion.chunk\",\"created\":1726491856,\"model\":\"gpt-4o-2024-05-13\",\"system_fingerprint\":\"fp_80a1bad4c7\",\"choices\":[{\"index\":0,\"delta\":{\"content\":\"ン\"},\"logprobs\":null,\"finish_reason\":null}]}\n",
      "data: {\"id\":\"chatcmpl-A85gmJLqonnBDX3HRGLYnX7saZOEV\",\"object\":\"chat.completion.chunk\",\"created\":1726491856,\"model\":\"gpt-4o-2024-05-13\",\"system_fingerprint\":\"fp_80a1bad4c7\",\"choices\":[{\"index\":0,\"delta\":{\"content\":\"キング\"},\"logprobs\":null,\"finish_reason\":null}]}\n",
      "data: {\"id\":\"chatcmpl-A85gmJLqonnBDX3HRGLYnX7saZOEV\",\"object\":\"chat.completion.chunk\",\"created\":1726491856,\"model\":\"gpt-4o-2024-05-13\",\"system_fingerprint\":\"fp_80a1bad4c7\",\"choices\":[{\"index\":0,\"delta\":{\"content\":\"も\"},\"logprobs\":null,\"finish_reason\":null}]}\n",
      "data: {\"id\":\"chatcmpl-A85gmJLqonnBDX3HRGLYnX7saZOEV\",\"object\":\"chat.completion.chunk\",\"created\":1726491856,\"model\":\"gpt-4o-2024-05-13\",\"system_fingerprint\":\"fp_80a1bad4c7\",\"choices\":[{\"index\":0,\"delta\":{\"content\":\"普\"},\"logprobs\":null,\"finish_reason\":null}]}\n",
      "data: {\"id\":\"chatcmpl-A85gmJLqonnBDX3HRGLYnX7saZOEV\",\"object\":\"chat.completion.chunk\",\"created\":1726491856,\"model\":\"gpt-4o-2024-05-13\",\"system_fingerprint\":\"fp_80a1bad4c7\",\"choices\":[{\"index\":0,\"delta\":{\"content\":\"及\"},\"logprobs\":null,\"finish_reason\":null}]}\n",
      "data: {\"id\":\"chatcmpl-A85gmJLqonnBDX3HRGLYnX7saZOEV\",\"object\":\"chat.completion.chunk\",\"created\":1726491856,\"model\":\"gpt-4o-2024-05-13\",\"system_fingerprint\":\"fp_80a1bad4c7\",\"choices\":[{\"index\":0,\"delta\":{\"content\":\"して\"},\"logprobs\":null,\"finish_reason\":null}]}\n",
      "data: {\"id\":\"chatcmpl-A85gmJLqonnBDX3HRGLYnX7saZOEV\",\"object\":\"chat.completion.chunk\",\"created\":1726491856,\"model\":\"gpt-4o-2024-05-13\",\"system_fingerprint\":\"fp_80a1bad4c7\",\"choices\":[{\"index\":0,\"delta\":{\"content\":\"お\"},\"logprobs\":null,\"finish_reason\":null}]}\n",
      "data: {\"id\":\"chatcmpl-A85gmJLqonnBDX3HRGLYnX7saZOEV\",\"object\":\"chat.completion.chunk\",\"created\":1726491856,\"model\":\"gpt-4o-2024-05-13\",\"system_fingerprint\":\"fp_80a1bad4c7\",\"choices\":[{\"index\":0,\"delta\":{\"content\":\"り\"},\"logprobs\":null,\"finish_reason\":null}]}\n",
      "data: {\"id\":\"chatcmpl-A85gmJLqonnBDX3HRGLYnX7saZOEV\",\"object\":\"chat.completion.chunk\",\"created\":1726491856,\"model\":\"gpt-4o-2024-05-13\",\"system_fingerprint\":\"fp_80a1bad4c7\",\"choices\":[{\"index\":0,\"delta\":{\"content\":\"、\"},\"logprobs\":null,\"finish_reason\":null}]}\n",
      "data: {\"id\":\"chatcmpl-A85gmJLqonnBDX3HRGLYnX7saZOEV\",\"object\":\"chat.completion.chunk\",\"created\":1726491856,\"model\":\"gpt-4o-2024-05-13\",\"system_fingerprint\":\"fp_80a1bad4c7\",\"choices\":[{\"index\":0,\"delta\":{\"content\":\"スマ\"},\"logprobs\":null,\"finish_reason\":null}]}\n",
      "data: {\"id\":\"chatcmpl-A85gmJLqonnBDX3HRGLYnX7saZOEV\",\"object\":\"chat.completion.chunk\",\"created\":1726491856,\"model\":\"gpt-4o-2024-05-13\",\"system_fingerprint\":\"fp_80a1bad4c7\",\"choices\":[{\"index\":0,\"delta\":{\"content\":\"ート\"},\"logprobs\":null,\"finish_reason\":null}]}\n",
      "data: {\"id\":\"chatcmpl-A85gmJLqonnBDX3HRGLYnX7saZOEV\",\"object\":\"chat.completion.chunk\",\"created\":1726491856,\"model\":\"gpt-4o-2024-05-13\",\"system_fingerprint\":\"fp_80a1bad4c7\",\"choices\":[{\"index\":0,\"delta\":{\"content\":\"フォン\"},\"logprobs\":null,\"finish_reason\":null}]}\n",
      "data: {\"id\":\"chatcmpl-A85gmJLqonnBDX3HRGLYnX7saZOEV\",\"object\":\"chat.completion.chunk\",\"created\":1726491856,\"model\":\"gpt-4o-2024-05-13\",\"system_fingerprint\":\"fp_80a1bad4c7\",\"choices\":[{\"index\":0,\"delta\":{\"content\":\"から\"},\"logprobs\":null,\"finish_reason\":null}]}\n",
      "data: {\"id\":\"chatcmpl-A85gmJLqonnBDX3HRGLYnX7saZOEV\",\"object\":\"chat.completion.chunk\",\"created\":1726491856,\"model\":\"gpt-4o-2024-05-13\",\"system_fingerprint\":\"fp_80a1bad4c7\",\"choices\":[{\"index\":0,\"delta\":{\"content\":\"簡\"},\"logprobs\":null,\"finish_reason\":null}]}\n",
      "data: {\"id\":\"chatcmpl-A85gmJLqonnBDX3HRGLYnX7saZOEV\",\"object\":\"chat.completion.chunk\",\"created\":1726491856,\"model\":\"gpt-4o-2024-05-13\",\"system_fingerprint\":\"fp_80a1bad4c7\",\"choices\":[{\"index\":0,\"delta\":{\"content\":\"単\"},\"logprobs\":null,\"finish_reason\":null}]}\n",
      "data: {\"id\":\"chatcmpl-A85gmJLqonnBDX3HRGLYnX7saZOEV\",\"object\":\"chat.completion.chunk\",\"created\":1726491856,\"model\":\"gpt-4o-2024-05-13\",\"system_fingerprint\":\"fp_80a1bad4c7\",\"choices\":[{\"index\":0,\"delta\":{\"content\":\"に\"},\"logprobs\":null,\"finish_reason\":null}]}\n",
      "data: {\"id\":\"chatcmpl-A85gmJLqonnBDX3HRGLYnX7saZOEV\",\"object\":\"chat.completion.chunk\",\"created\":1726491856,\"model\":\"gpt-4o-2024-05-13\",\"system_fingerprint\":\"fp_80a1bad4c7\",\"choices\":[{\"index\":0,\"delta\":{\"content\":\"管理\"},\"logprobs\":null,\"finish_reason\":null}]}\n",
      "data: {\"id\":\"chatcmpl-A85gmJLqonnBDX3HRGLYnX7saZOEV\",\"object\":\"chat.completion.chunk\",\"created\":1726491856,\"model\":\"gpt-4o-2024-05-13\",\"system_fingerprint\":\"fp_80a1bad4c7\",\"choices\":[{\"index\":0,\"delta\":{\"content\":\"が\"},\"logprobs\":null,\"finish_reason\":null}]}\n",
      "data: {\"id\":\"chatcmpl-A85gmJLqonnBDX3HRGLYnX7saZOEV\",\"object\":\"chat.completion.chunk\",\"created\":1726491856,\"model\":\"gpt-4o-2024-05-13\",\"system_fingerprint\":\"fp_80a1bad4c7\",\"choices\":[{\"index\":0,\"delta\":{\"content\":\"可能\"},\"logprobs\":null,\"finish_reason\":null}]}\n",
      "data: {\"id\":\"chatcmpl-A85gmJLqonnBDX3HRGLYnX7saZOEV\",\"object\":\"chat.completion.chunk\",\"created\":1726491856,\"model\":\"gpt-4o-2024-05-13\",\"system_fingerprint\":\"fp_80a1bad4c7\",\"choices\":[{\"index\":0,\"delta\":{\"content\":\"です\"},\"logprobs\":null,\"finish_reason\":null}]}\n",
      "data: {\"id\":\"chatcmpl-A85gmJLqonnBDX3HRGLYnX7saZOEV\",\"object\":\"chat.completion.chunk\",\"created\":1726491856,\"model\":\"gpt-4o-2024-05-13\",\"system_fingerprint\":\"fp_80a1bad4c7\",\"choices\":[{\"index\":0,\"delta\":{\"content\":\"。\"},\"logprobs\":null,\"finish_reason\":null}]}\n",
      "data: {\"id\":\"chatcmpl-A85gmJLqonnBDX3HRGLYnX7saZOEV\",\"object\":\"chat.completion.chunk\",\"created\":1726491856,\"model\":\"gpt-4o-2024-05-13\",\"system_fingerprint\":\"fp_80a1bad4c7\",\"choices\":[{\"index\":0,\"delta\":{},\"logprobs\":null,\"finish_reason\":\"stop\"}]}\n",
      "data: [DONE]\n",
      "[DONE] received at: 2024-09-16T13:04:17.772104+00:00\n",
      "Total time taken: 2.123 seconds\n"
     ]
    }
   ],
   "source": [
    "# stream\n",
    "import asyncio\n",
    "await make_request_stream()"
   ]
  },
  {
   "cell_type": "code",
   "execution_count": 16,
   "metadata": {},
   "outputs": [
    {
     "name": "stdout",
     "output_type": "stream",
     "text": [
      "Success: https://benchmark-20240808-australia-east.openai.azure.com/openai/deployments/gpt-4-0613/chat/completions?api-version=2024-06-01&max_tokens=500 | 200 \n",
      " {'Cache-Control': 'no-cache, must-revalidate', 'Content-Length': '2260', 'Content-Type': 'application/json', 'access-control-allow-origin': '*', 'apim-request-id': 'c7991e22-235b-4c72-ac93-6a1cad881345', 'Strict-Transport-Security': 'max-age=31536000; includeSubDomains; preload', 'x-content-type-options': 'nosniff', 'x-ms-region': 'Australia East', 'x-ratelimit-remaining-requests': '39', 'x-ratelimit-remaining-tokens': '39500', 'x-accel-buffering': 'no', 'x-ms-rai-invoked': 'true', 'x-request-id': 'd02e094c-f246-4336-9b67-b3c012c2e8b4', 'x-ms-client-request-id': 'c7991e22-235b-4c72-ac93-6a1cad881345', 'azureml-model-session': 'd017-20240819155551', 'Date': 'Sun, 15 Sep 2024 06:29:32 GMT'} \n",
      " {'choices': [{'content_filter_results': {'hate': {'filtered': False, 'severity': 'safe'}, 'self_harm': {'filtered': False, 'severity': 'safe'}, 'sexual': {'filtered': False, 'severity': 'safe'}, 'violence': {'filtered': False, 'severity': 'safe'}}, 'finish_reason': 'length', 'index': 0, 'logprobs': None, 'message': {'content': '銀行は、お金を預けたり借りたりするための金融機関であり、個人から企業まで幅広い顧客を持つ重要な存在です。銀行は預金者から預金を受け取り、その一部を利息をつけて貸し出すことで利益を得ています。このような役割から、銀行は経済の安定と成長を支える基盤となっています。\\n\\n銀行の基本的なサービスは預金と融資ですが、その他にも様々なサービスを提供しています。例えば、外貨両替、海外送金、証券取引、保険商品の販売、不動産取引など、顧客のニーズに応じた多様なサービスを展開しています。\\n\\nまた、銀行は顧客の生活を便利にするための様々なシステムを導入しています。インターネットバンキングやスマートフォンアプリを使えば、自宅や職場からでも預金の状況を確認したり、振込みや口座管理を行うことができます。これらのシステムは24時間利用可能で、いつでもどこでも銀行業務を行うことができます。\\n\\nさらに、最近ではフィンテックの発展に伴い、AIを活用したロボアドバイザーやブロックチェーン技術を用いた新しいサービスも提供されています。これらの技術は、銀行が提供するサービスの効率性と便', 'role': 'assistant'}}], 'created': 1726381748, 'id': 'chatcmpl-A7d2qM7kMKJhD8ORWTWhxM3U4GwkT', 'model': 'gpt-4', 'object': 'chat.completion', 'prompt_filter_results': [{'prompt_index': 0, 'content_filter_results': {'hate': {'filtered': False, 'severity': 'safe'}, 'jailbreak': {'filtered': False, 'detected': False}, 'self_harm': {'filtered': False, 'severity': 'safe'}, 'sexual': {'filtered': False, 'severity': 'safe'}, 'violence': {'filtered': False, 'severity': 'safe'}}}], 'system_fingerprint': None, 'usage': {'completion_tokens': 500, 'prompt_tokens': 32, 'total_tokens': 532}}\n"
     ]
    }
   ],
   "source": [
    "make_request() # 35-t doesn't have enough context window"
   ]
  },
  {
   "cell_type": "markdown",
   "metadata": {},
   "source": [
    "PTU"
   ]
  },
  {
   "cell_type": "code",
   "execution_count": 36,
   "metadata": {},
   "outputs": [
    {
     "name": "stdout",
     "output_type": "stream",
     "text": [
      "Success: {'id': 'chatcmpl-9uE0tkHY9NzuZNPwv78Py7sjWZh9S', 'object': 'chat.completion', 'created': 1723187263, 'model': 'gpt-4o-2024-05-13', 'choices': [{'index': 0, 'message': {'role': 'assistant', 'content': '銀行業務において、お客様に最高のサービスを提供するためには、以下のような手続きやプロセスが必要です。\\n\\n### 1. 口座開設手続き\\n- **申込書の記入**: お客様は銀行が提供する申込書に必要事項を記入します。\\n- **本人確認書類の提出**: 身分証明書（運転免許証、パスポートなど）を提出し、銀行が本人確認を行います。\\n- **初回入金**: 口座開設後、現金または振込で初回入金を行います。\\n\\n### 2. インターネットバンキングの登録\\n- **ウェブサイトへのアクセス**: 銀行のウェブサイトにアクセスします。\\n- **ユーザーIDとパスワードの設定**: 自分のユーザーIDとパスワードを設定します。\\n- **認証コードの受信と入力**: 銀行から送られる認証コードを受け取り、ウェブサイトに入力します。\\n\\n### 3. ローン申'}, 'logprobs': None, 'finish_reason': 'length'}], 'usage': {'prompt_tokens': 2935, 'completion_tokens': 250, 'total_tokens': 3185}, 'system_fingerprint': 'fp_abc28019ad'}\n"
     ]
    }
   ],
   "source": [
    "make_request()"
   ]
  },
  {
   "cell_type": "markdown",
   "metadata": {},
   "source": [
    "PayGo Global"
   ]
  },
  {
   "cell_type": "code",
   "execution_count": 41,
   "metadata": {},
   "outputs": [
    {
     "name": "stdout",
     "output_type": "stream",
     "text": [
      "Success: {'id': 'chatcmpl-9uE2Cc0Wk5RmYL0WU7bEvrLgqdYYE', 'object': 'chat.completion', 'created': 1723187344, 'model': 'gpt-4o-2024-05-13', 'choices': [{'index': 0, 'message': {'role': 'assistant', 'content': '銀行業務においてお客様に最高のサービスを提供するためには、様々な手続きやプロセスが必要です。以下に、一般的な銀行業務のフローについて詳しく説明します。\\n\\n### 口座開設の手続き\\n1. **申込書の記入**: お客様は銀行が提供する申込書に必要事項を記入します。\\n2. **本人確認書類の提出**: お客様は身分証明書（運転免許証、パスポートなど）を提出し、銀行が本人確認を行います。\\n3. **初回入金**: 口座開設後、初回の入金が必要です。お客様は現金または振込で初回入金を行います。\\n\\n### インターネットバンキングの登録\\n1. **ウェブサイトへのアクセス**: お客様は銀行のウェブサイトにアクセスします。\\n2. **ユーザーIDとパスワードの設定**: お客様は自分のユーザーIDとパスワードを設定します。\\n3. **認証コードの'}, 'logprobs': None, 'finish_reason': 'length'}], 'usage': {'prompt_tokens': 2935, 'completion_tokens': 250, 'total_tokens': 3185}, 'system_fingerprint': 'fp_abc28019ad'}\n"
     ]
    }
   ],
   "source": [
    "make_request()"
   ]
  },
  {
   "cell_type": "markdown",
   "metadata": {},
   "source": [
    "4o PayGo Standard"
   ]
  },
  {
   "cell_type": "code",
   "execution_count": 49,
   "metadata": {},
   "outputs": [
    {
     "name": "stdout",
     "output_type": "stream",
     "text": [
      "Success: {'choices': [{'content_filter_results': {'hate': {'filtered': False, 'severity': 'safe'}, 'protected_material_code': {'filtered': False, 'detected': False}, 'protected_material_text': {'filtered': False, 'detected': False}, 'self_harm': {'filtered': False, 'severity': 'safe'}, 'sexual': {'filtered': False, 'severity': 'safe'}, 'violence': {'filtered': False, 'severity': 'safe'}}, 'finish_reason': 'length', 'index': 0, 'logprobs': None, 'message': {'content': '銀行業務においてお客様に最高のサービスを提供するためには、以下のような様々な手続きやプロセスが必要です。\\n\\n### 口座開設\\n1. **申込書の記入**: お客様が銀行が提供する申込書に必要事項を記入します。\\n2. **本人確認書類の提出**: 身分証明書（運転免許証、パスポートなど）を提出し、銀行が本人確認を行います。\\n3. **初回入金**: 口座開設後、現金または振込で初回入金を行います。\\n\\n### インターネットバンキングの登録\\n1. **ウェブサイトへのアクセス**: 銀行のウェブサイトにアクセスします。\\n2. **ユーザーIDとパスワードの設定**: 自分のユーザーIDとパスワードを設定します。\\n3. **認証コードの受信と入力**: 銀行から送られる認証コードを受け取り、ウェブサイトに入力します。\\n\\n### 各種サービスの提供', 'role': 'assistant'}}], 'created': 1723206237, 'id': 'chatcmpl-9uIwvIuU5UWpjMQTvFH0Bs8KH3cc0', 'model': 'gpt-4o-2024-05-13', 'object': 'chat.completion', 'prompt_filter_results': [{'prompt_index': 0, 'content_filter_results': {'hate': {'filtered': False, 'severity': 'safe'}, 'jailbreak': {'filtered': False, 'detected': False}, 'self_harm': {'filtered': False, 'severity': 'safe'}, 'sexual': {'filtered': False, 'severity': 'safe'}, 'violence': {'filtered': False, 'severity': 'safe'}}}], 'system_fingerprint': 'fp_abc28019ad', 'usage': {'completion_tokens': 250, 'prompt_tokens': 2935, 'total_tokens': 3185}}\n"
     ]
    }
   ],
   "source": [
    "make_request()"
   ]
  },
  {
   "cell_type": "code",
   "execution_count": 8,
   "metadata": {},
   "outputs": [
    {
     "data": {
      "text/plain": [
       "'2024-09-13T11:38:04.691832+00:00'"
      ]
     },
     "execution_count": 8,
     "metadata": {},
     "output_type": "execute_result"
    }
   ],
   "source": [
    "from datetime import datetime, timezone\n",
    "datetime.now(timezone.utc).isoformat()"
   ]
  },
  {
   "cell_type": "markdown",
   "metadata": {},
   "source": [
    "## OpenAI"
   ]
  },
  {
   "cell_type": "code",
   "execution_count": 55,
   "metadata": {},
   "outputs": [],
   "source": [
    "API_ENDPOINT = os.getenv(\"OPENAI_API_ENDPOINT\")\n",
    "API_KEY = os.getenv(\"OPENAI_API_KEY\")"
   ]
  },
  {
   "cell_type": "code",
   "execution_count": 57,
   "metadata": {},
   "outputs": [],
   "source": [
    "HEADERS = {\n",
    "    \"Content-Type\": \"application/json\",\n",
    "    \"Authorization\": f\"Bearer {API_KEY}\"\n",
    "}"
   ]
  },
  {
   "cell_type": "code",
   "execution_count": 58,
   "metadata": {},
   "outputs": [],
   "source": [
    "import requests\n",
    "\n",
    "prompt = \"Generate 50 tokens in Japanese about bank. Don't output anything else.\"\n",
    "\n",
    "\n",
    "PAYLOAD = {\n",
    "    \"model\": \"gpt-4o\",\n",
    "    \"messages\": [\n",
    "        {\"role\": \"system\", \"content\": \"You are a helpful assistant.\"},\n",
    "        {\"role\": \"user\", \"content\": prompt}\n",
    "    ],\n",
    "    \"max_tokens\": 50,\n",
    "    \"temperature\": 0.7,\n",
    "    \"top_p\": 0.9,\n",
    "    \"frequency_penalty\": 0,\n",
    "    \"presence_penalty\": 0,\n",
    "    \"stream\": False\n",
    "}\n",
    "\n",
    "def make_request():\n",
    "    try:\n",
    "        response = requests.post(API_ENDPOINT, headers=HEADERS, json=PAYLOAD)\n",
    "        if response.status_code == 200:\n",
    "            print(f\"Success: {API_ENDPOINT} | {response.status_code} \\n {response.headers} \\n {response.json()}\")\n",
    "        else:\n",
    "            print(f\"Error: {API_ENDPOINT} | {response.status_code} \\n {response.headers} \\n {response.json()}\")\n",
    "    except Exception as e:\n",
    "        print(\"Exception occurred:\", e)"
   ]
  },
  {
   "cell_type": "code",
   "execution_count": 59,
   "metadata": {},
   "outputs": [
    {
     "name": "stdout",
     "output_type": "stream",
     "text": [
      "Success: https://api.openai.com/v1/chat/completions | 200 \n",
      " {'Date': 'Mon, 16 Sep 2024 06:38:36 GMT', 'Content-Type': 'application/json', 'Transfer-Encoding': 'chunked', 'Connection': 'keep-alive', 'access-control-expose-headers': 'X-Request-ID', 'openai-organization': 'user-cah75j5ctcmleczenoknaz2k', 'openai-processing-ms': '596', 'openai-version': '2020-10-01', 'strict-transport-security': 'max-age=15552000; includeSubDomains; preload', 'x-ratelimit-limit-requests': '500', 'x-ratelimit-limit-tokens': '30000', 'x-ratelimit-remaining-requests': '499', 'x-ratelimit-remaining-tokens': '29923', 'x-ratelimit-reset-requests': '120ms', 'x-ratelimit-reset-tokens': '154ms', 'x-request-id': 'req_68a10fb9378dd7447a826d79f2a58eb1', 'CF-Cache-Status': 'DYNAMIC', 'Set-Cookie': '__cf_bm=KzVoKGnOO3kSc2ywHAex0SiZcrJifMdb0jNQXZJBK1k-1726468716-1.0.1.1-rZbPzL5ODO4vX.wf6Vf4rpdjyeRT8D.enpAGFKfHJyqmpgGaCMHDQb.mIUYdD7_bl.uG7XUT7fGedmrLPCLIuw; path=/; expires=Mon, 16-Sep-24 07:08:36 GMT; domain=.api.openai.com; HttpOnly; Secure; SameSite=None, _cfuvid=Zb1xM0KWpDUnitO9K8Fgoe9tcIrOpTfaudExpFoytmg-1726468716246-0.0.1.1-604800000; path=/; domain=.api.openai.com; HttpOnly; Secure; SameSite=None', 'X-Content-Type-Options': 'nosniff', 'Server': 'cloudflare', 'CF-RAY': '8c3edabe6f86688c-NRT', 'Content-Encoding': 'gzip', 'alt-svc': 'h3=\":443\"; ma=86400'} \n",
      " {'id': 'chatcmpl-A7zfXUy1kyp3YZYXLnt8YK85EQuaE', 'object': 'chat.completion', 'created': 1726468715, 'model': 'gpt-4o-2024-05-13', 'choices': [{'index': 0, 'message': {'role': 'assistant', 'content': '銀行は、お金を預けたり引き出したりする場所です。口座を開設することで、預金や送金が可能になります。利息もつきますし、ローンを組むこともできます', 'refusal': None}, 'logprobs': None, 'finish_reason': 'length'}], 'usage': {'prompt_tokens': 31, 'completion_tokens': 50, 'total_tokens': 81, 'completion_tokens_details': {'reasoning_tokens': 0}}, 'system_fingerprint': 'fp_25624ae3a5'}\n"
     ]
    }
   ],
   "source": [
    "make_request()"
   ]
  },
  {
   "cell_type": "code",
   "execution_count": null,
   "metadata": {},
   "outputs": [],
   "source": []
  }
 ],
 "metadata": {
  "kernelspec": {
   "display_name": "venv",
   "language": "python",
   "name": "python3"
  },
  "language_info": {
   "codemirror_mode": {
    "name": "ipython",
    "version": 3
   },
   "file_extension": ".py",
   "mimetype": "text/x-python",
   "name": "python",
   "nbconvert_exporter": "python",
   "pygments_lexer": "ipython3",
   "version": "3.12.3"
  }
 },
 "nbformat": 4,
 "nbformat_minor": 2
}
